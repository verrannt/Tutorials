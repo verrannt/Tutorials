{
 "cells": [
  {
   "cell_type": "markdown",
   "metadata": {},
   "source": [
    "# Logistic Regression using Simulated Annealing"
   ]
  },
  {
   "cell_type": "code",
   "execution_count": 1,
   "metadata": {},
   "outputs": [],
   "source": [
    "import numpy as np\n",
    "import matplotlib.pyplot as plt\n",
    "import pandas as pd"
   ]
  },
  {
   "cell_type": "code",
   "execution_count": 2,
   "metadata": {},
   "outputs": [],
   "source": [
    "def logistic(x):\n",
    "    return np.exp(x) / (1 + np.exp(x))\n",
    "def linear(slope, x, intercept):\n",
    "    return slope * x + intercept"
   ]
  },
  {
   "cell_type": "code",
   "execution_count": 3,
   "metadata": {},
   "outputs": [],
   "source": [
    "def sample_data(mean=0, std=2, cutoff=None, size=10):\n",
    "    normal = np.random.normal(mean, std, size)\n",
    "    datapoints = []\n",
    "    if cutoff:\n",
    "        if cutoff>0:\n",
    "            for point in normal:\n",
    "                if point < cutoff: datapoints.append(point)\n",
    "        else:\n",
    "            for point in normal:\n",
    "                if point > cutoff: datapoints.append(point)\n",
    "    return datapoints\n",
    "\n",
    "def flatten(a):\n",
    "    return [item for sublist in a for item in sublist]"
   ]
  },
  {
   "cell_type": "code",
   "execution_count": 11,
   "metadata": {},
   "outputs": [],
   "source": [
    "# Get samples for the \"true\" condition, i.e. pupils that have passed the test\n",
    "trues = sample_data(mean=4.5, std=1.0, cutoff=5.5, size=20)\n",
    "# Get sample for the \"false\" aka \"not passed\" condition\n",
    "falses= sample_data(mean=2.0, std=0.8, cutoff=-0.01, size=20)\n",
    "# Combine them into one list\n",
    "x = flatten([trues, falses])\n",
    "# Get the corresponding y values: 1 for passed and 0 for not passed\n",
    "y = [1 if i < len(trues) else 0 for i in range(len(trues)+len(falses))]\n",
    "\n",
    "# Put them into a pandas dataframe with hours of study as one column and passed as the other\n",
    "#data = pd.DataFrame({\"Studyhours\":flatten([trues, falses]), \"Passed\":y})"
   ]
  },
  {
   "cell_type": "code",
   "execution_count": 12,
   "metadata": {},
   "outputs": [
    {
     "data": {
      "image/png": "[encoded data removed]",
      "text/plain": [
       "<Figure size 432x288 with 1 Axes>"
      ]
     },
     "metadata": {
      "needs_background": "light"
     },
     "output_type": "display_data"
    }
   ],
   "source": [
    "plt.plot(x, y, \"o\")\n",
    "plt.plot(sorted(x), logistic(sorted(x)), \"orange\")\n",
    "plt.show()"
   ]
  },
  {
   "cell_type": "code",
   "execution_count": null,
   "metadata": {},
   "outputs": [],
   "source": [
    "def temp_schedule(a, step, prev_temp):\n",
    "    \"\"\"\n",
    "    Schedules the temperature as simple exponential decay\n",
    "    @params\n",
    "        a : the decay factor\n",
    "        step : the current step (normalized by max steps)\n",
    "        current_temp : the previous temperature of the system\n",
    "    @returns\n",
    "        the temperature of the system at the next timestep\n",
    "    \"\"\"\n",
    "    return a**step * prev_temp\n",
    "\n",
    "def optim():\n",
    "\n",
    "    # Set initial state\n",
    "    s = s0\n",
    "\n",
    "    # Iterate until kmax steps are reached\n",
    "    for k in range(kmax):\n",
    "        # Set current temperature of the system\n",
    "        T = a * T\n",
    "        T = temperature( kmax/(k+1) )\n",
    "        # Pick a random neighbour\n",
    "        snew = neighbour(s)\n",
    "        # \n",
    "        if P(E(s), E(snew), T) ≥ random(0, 1):\n",
    "            s ← snew\n",
    "\n",
    "    # Output: the final state s\n",
    "    return s"
   ]
  },
  {
   "cell_type": "code",
   "execution_count": null,
   "metadata": {},
   "outputs": [],
   "source": [
    "simulated_annealing <- function(theta, y, x, scale = 0.1, max_iter = 1000, step = 0.05) {\n",
    "   degrees_of_freedom <- length(y) - 2\n",
    "   temp <- 1\n",
    "\n",
    "   # Need to keep track of best state so far and current state\n",
    "   # We also keep track of the iteration count of the best state for tuning purposes\n",
    "   iter_best <- 1\n",
    "   theta_best <- theta\n",
    "   mse_best <- mse <- sum((y - theta[1] - theta[2]*x)^2) / degrees_of_freedom\n",
    "   for (k in 1:max_iter) {     \n",
    "      temp <- temp * (1 - step)\n",
    "\n",
    "      # Generate proposals using a Student-t distribution      \n",
    "      theta_prop <- theta + scale * rt(2, 3)\n",
    "      mse_prop <- sum((y - theta_prop[1] - theta_prop[2]*x)^2) / degrees_of_freedom\n",
    "\n",
    "      # Select the next state (either current or proposed)\n",
    "      if (mse_prop < mse || runif(1) < exp(-(mse_prop-mse)/temp)) {\n",
    "         theta <- theta_prop\n",
    "         mse <- mse_prop\n",
    "\n",
    "         if (mse_prop < mse_best) {\n",
    "            iter_best <- k\n",
    "            theta_best <- theta_prop\n",
    "            mse_best <- mse_prop\n",
    "         }\n",
    "      }\n",
    "   }\n",
    "   return(list(iter_best=iter_best, mse_best=mse_best, theta_best=theta_best))\n",
    "}"
   ]
  }
 ],
 "metadata": {
  "kernelspec": {
   "display_name": "Python 3",
   "language": "python",
   "name": "python3"
  },
  "language_info": {
   "codemirror_mode": {
    "name": "ipython",
    "version": 3
   },
   "file_extension": ".py",
   "mimetype": "text/x-python",
   "name": "python",
   "nbconvert_exporter": "python",
   "pygments_lexer": "ipython3",
   "version": "3.7.3"
  }
 },
 "nbformat": 4,
 "nbformat_minor": 2
}
