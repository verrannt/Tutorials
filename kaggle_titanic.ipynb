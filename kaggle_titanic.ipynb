{
 "cells": [
  {
   "cell_type": "markdown",
   "metadata": {},
   "source": [
    "# Kaggle-Titanic \n",
    "### Predicting survival rates for passengers on the Titanic\n",
    "\n",
    "The competition can be found on [Kaggle](https://www.kaggle.com/c/titanic)"
   ]
  },
  {
   "cell_type": "code",
   "execution_count": null,
   "metadata": {
    "collapsed": false
   },
   "outputs": [],
   "source": [
    "import numpy as np\n",
    "import pandas as pd\n",
    "import seaborn as sb\n",
    "import matplotlib.pyplot as plt\n",
    "import tensorflow as tf"
   ]
  },
  {
   "cell_type": "markdown",
   "metadata": {},
   "source": [
    "## Data Preprocessing\n",
    "First, read in the data from .csv files from local directory"
   ]
  },
  {
   "cell_type": "code",
   "execution_count": 223,
   "metadata": {
    "collapsed": false
   },
   "outputs": [
    {
     "data": {
      "text/html": [
       "<div>\n",
       "<table border=\"1\" class=\"dataframe\">\n",
       "  <thead>\n",
       "    <tr style=\"text-align: right;\">\n",
       "      <th></th>\n",
       "      <th>PassengerId</th>\n",
       "      <th>Survived</th>\n",
       "      <th>Pclass</th>\n",
       "      <th>Name</th>\n",
       "      <th>Sex</th>\n",
       "      <th>Age</th>\n",
       "      <th>SibSp</th>\n",
       "      <th>Parch</th>\n",
       "      <th>Ticket</th>\n",
       "      <th>Fare</th>\n",
       "      <th>Cabin</th>\n",
       "      <th>Embarked</th>\n",
       "    </tr>\n",
       "  </thead>\n",
       "  <tbody>\n",
       "    <tr>\n",
       "      <th>0</th>\n",
       "      <td>1</td>\n",
       "      <td>0</td>\n",
       "      <td>3</td>\n",
       "      <td>Braund, Mr. Owen Harris</td>\n",
       "      <td>male</td>\n",
       "      <td>22.0</td>\n",
       "      <td>1</td>\n",
       "      <td>0</td>\n",
       "      <td>A/5 21171</td>\n",
       "      <td>7.2500</td>\n",
       "      <td>NaN</td>\n",
       "      <td>S</td>\n",
       "    </tr>\n",
       "    <tr>\n",
       "      <th>1</th>\n",
       "      <td>2</td>\n",
       "      <td>1</td>\n",
       "      <td>1</td>\n",
       "      <td>Cumings, Mrs. John Bradley (Florence Briggs Th...</td>\n",
       "      <td>female</td>\n",
       "      <td>38.0</td>\n",
       "      <td>1</td>\n",
       "      <td>0</td>\n",
       "      <td>PC 17599</td>\n",
       "      <td>71.2833</td>\n",
       "      <td>C85</td>\n",
       "      <td>C</td>\n",
       "    </tr>\n",
       "    <tr>\n",
       "      <th>2</th>\n",
       "      <td>3</td>\n",
       "      <td>1</td>\n",
       "      <td>3</td>\n",
       "      <td>Heikkinen, Miss. Laina</td>\n",
       "      <td>female</td>\n",
       "      <td>26.0</td>\n",
       "      <td>0</td>\n",
       "      <td>0</td>\n",
       "      <td>STON/O2. 3101282</td>\n",
       "      <td>7.9250</td>\n",
       "      <td>NaN</td>\n",
       "      <td>S</td>\n",
       "    </tr>\n",
       "    <tr>\n",
       "      <th>3</th>\n",
       "      <td>4</td>\n",
       "      <td>1</td>\n",
       "      <td>1</td>\n",
       "      <td>Futrelle, Mrs. Jacques Heath (Lily May Peel)</td>\n",
       "      <td>female</td>\n",
       "      <td>35.0</td>\n",
       "      <td>1</td>\n",
       "      <td>0</td>\n",
       "      <td>113803</td>\n",
       "      <td>53.1000</td>\n",
       "      <td>C123</td>\n",
       "      <td>S</td>\n",
       "    </tr>\n",
       "    <tr>\n",
       "      <th>4</th>\n",
       "      <td>5</td>\n",
       "      <td>0</td>\n",
       "      <td>3</td>\n",
       "      <td>Allen, Mr. William Henry</td>\n",
       "      <td>male</td>\n",
       "      <td>35.0</td>\n",
       "      <td>0</td>\n",
       "      <td>0</td>\n",
       "      <td>373450</td>\n",
       "      <td>8.0500</td>\n",
       "      <td>NaN</td>\n",
       "      <td>S</td>\n",
       "    </tr>\n",
       "  </tbody>\n",
       "</table>\n",
       "</div>"
      ],
      "text/plain": [
       "   PassengerId  Survived  Pclass  \\\n",
       "0            1         0       3   \n",
       "1            2         1       1   \n",
       "2            3         1       3   \n",
       "3            4         1       1   \n",
       "4            5         0       3   \n",
       "\n",
       "                                                Name     Sex   Age  SibSp  \\\n",
       "0                            Braund, Mr. Owen Harris    male  22.0      1   \n",
       "1  Cumings, Mrs. John Bradley (Florence Briggs Th...  female  38.0      1   \n",
       "2                             Heikkinen, Miss. Laina  female  26.0      0   \n",
       "3       Futrelle, Mrs. Jacques Heath (Lily May Peel)  female  35.0      1   \n",
       "4                           Allen, Mr. William Henry    male  35.0      0   \n",
       "\n",
       "   Parch            Ticket     Fare Cabin Embarked  \n",
       "0      0         A/5 21171   7.2500   NaN        S  \n",
       "1      0          PC 17599  71.2833   C85        C  \n",
       "2      0  STON/O2. 3101282   7.9250   NaN        S  \n",
       "3      0            113803  53.1000  C123        S  \n",
       "4      0            373450   8.0500   NaN        S  "
      ]
     },
     "execution_count": 223,
     "metadata": {},
     "output_type": "execute_result"
    }
   ],
   "source": [
    "train = pd.read_csv(\"data/train.csv\")\n",
    "test  = pd.read_csv(\"data/test.csv\")\n",
    "ys    = pd.read_csv(\"data/gender_submission.csv\")\n",
    "\n",
    "train.head()"
   ]
  },
  {
   "cell_type": "markdown",
   "metadata": {},
   "source": [
    "Next, drop unwanted columns from our data, replace NaN values with zero, and factorize columns with categorical variables."
   ]
  },
  {
   "cell_type": "code",
   "execution_count": null,
   "metadata": {
    "collapsed": false
   },
   "outputs": [],
   "source": [
    "def process(d):\n",
    "    # Drop these variables because they do not contain valuable information\n",
    "    d.drop(['PassengerId','Name','Ticket','Cabin'], axis=1, inplace=True)\n",
    "    for col in d.columns.values:\n",
    "        # If contains NaN values\n",
    "        if d[col].isnull().values.any():\n",
    "            d[col] = d[col].fillna(0)\n",
    "        # Age and Fare are continuous variables\n",
    "        if not col == 'Age' or col == 'Fare':\n",
    "            d[col] = pd.factorize(d[col])[0]\n",
    "    return d\n",
    "            \n",
    "train = process(train)\n",
    "test  = process(test)"
   ]
  },
  {
   "cell_type": "markdown",
   "metadata": {},
   "source": [
    "Now that the data is factorized, we can compute the **min** and **max** for each column for normalization. We will use the 'Survive' column as y-labels, therefore we don't want to normalize it."
   ]
  },
  {
   "cell_type": "code",
   "execution_count": null,
   "metadata": {
    "collapsed": false
   },
   "outputs": [],
   "source": [
    "for col in train.columns.values:\n",
    "    if not col == 'Survived':\n",
    "        train[col] = (train[col] - train[col].min()) / (train[col].max() - train[col].min()) - 0.5\n",
    "        test[col] = (test[col] - train[col].min()) / (train[col].max() - train[col].min()) - 0.5"
   ]
  },
  {
   "cell_type": "markdown",
   "metadata": {},
   "source": [
    "From the factorized and normalized training and testing sets we now define a simple function to generate batches from these sets."
   ]
  },
  {
   "cell_type": "code",
   "execution_count": null,
   "metadata": {
    "collapsed": false
   },
   "outputs": [],
   "source": [
    "def one_hot(x):\n",
    "    if x == 0:\n",
    "        return [0,1]\n",
    "    elif x == 1:\n",
    "        return [1,0]\n",
    "    else:\n",
    "        raise Exception(\"Input is neither 0 nor 1 which should be the case.\")\n",
    "\n",
    "class get_batch():    \n",
    "    def training(batch_size):\n",
    "        train_x, train_y = [],[]\n",
    "        for i in range(batch_size):\n",
    "            train_index = np.random.randint(len(train.index))\n",
    "            \n",
    "            train_row = train.iloc[train_index]\n",
    "\n",
    "            train_x.append(np.array(train_row.drop('Survived')))\n",
    "            train_y.append(one_hot(train_row.Survived))\n",
    "        return (np.array(train_x), np.array(train_y))\n",
    "\n",
    "    def testing(batch_size):\n",
    "        test_x, test_y = [],[]\n",
    "        for i in range(batch_size):\n",
    "            test_index = np.random.randint(len(test.index))\n",
    "\n",
    "            test_x.append(np.array(test.iloc[test_index]))\n",
    "            test_y.append(one_hot(ys.iloc[test_index][1]))\n",
    "        return (np.array(test_x), np.array(test_y))"
   ]
  },
  {
   "cell_type": "markdown",
   "metadata": {},
   "source": [
    "## Designing the Network Graph\n",
    "The architecture will be a simple two-hidden-layer feed-forward neural network implemented in Tensorflow."
   ]
  },
  {
   "cell_type": "code",
   "execution_count": null,
   "metadata": {
    "collapsed": false
   },
   "outputs": [],
   "source": [
    "hls = 28 # The size of the first hidden layer, 2nd hidden layer is simply 2*hls\n",
    "\n",
    "# Inits\n",
    "x = tf.placeholder(tf.float32, [None, 7])\n",
    "W1 = tf.Variable(tf.truncated_normal([7,hls], mean=0.0, stddev=1.0))\n",
    "b1 = tf.Variable(tf.ones([hls]))\n",
    "W2 = tf.Variable(tf.truncated_normal([hls,hls*2], mean=0.0, stddev=1.0))\n",
    "b2 = tf.Variable(tf.ones([hls*2]))\n",
    "W3 = tf.Variable(tf.truncated_normal([hls*2,2], mean=0.0, stddev=1.0))\n",
    "b3 = tf.Variable(tf.ones([2]))\n",
    "\n",
    "# Network graph\n",
    "l1 = tf.nn.relu(tf.matmul(x,  W1) + b1)\n",
    "l2 = tf.nn.relu(tf.matmul(l1, W2) + b2)\n",
    "y  =            tf.matmul(l2, W3) + b3\n",
    "yhat = tf.placeholder(tf.float32, [None,2])\n",
    "\n",
    "# Computations\n",
    "cross_entropy = tf.nn.softmax_cross_entropy_with_logits(labels=yhat,logits=y)\n",
    "train_step = tf.train.AdamOptimizer(0.5).minimize(cross_entropy)\n",
    "\n",
    "correct_prediction = tf.equal(tf.argmax(y,1), tf.argmax(yhat,1))\n",
    "accuracy = tf.reduce_mean(tf.cast(correct_prediction, tf.float32))"
   ]
  },
  {
   "cell_type": "markdown",
   "metadata": {},
   "source": [
    "## Running the network"
   ]
  },
  {
   "cell_type": "code",
   "execution_count": null,
   "metadata": {
    "collapsed": false
   },
   "outputs": [],
   "source": [
    "sess = tf.Session()\n",
    "sess.run(tf.global_variables_initializer())\n",
    "\n",
    "def run_network(mode = \"test\", episodes=1000, batch_size = 200):\n",
    "    \n",
    "    if mode == \"train\":\n",
    "        for i in range(episodes):\n",
    "            train_x, train_y = get_batch.training(batch_size)\n",
    "            if i % 100 == 0:\n",
    "                train_accuracy = sess.run(\n",
    "                    accuracy,\n",
    "                    feed_dict = {x: train_x, yhat: train_y})\n",
    "                print(\"Step: {}, Training accuracy: {}\".format(i, train_accuracy))\n",
    "            sess.run(\n",
    "                train_step,\n",
    "                feed_dict = {x: train_x, yhat: train_y})\n",
    "            \n",
    "    elif mode == \"test\":\n",
    "        accuracies = []\n",
    "        for i in range(episodes):\n",
    "            test_x, test_y = get_batch.testing(batch_size)\n",
    "            test_accuracy = sess.run(\n",
    "                accuracy,\n",
    "                feed_dict = {x: test_x, yhat: test_y})\n",
    "            if i % 10 == 0:\n",
    "                print(\"Step: {}, Testing accuracy: {}\".format(i, test_accuracy))\n",
    "            accuracies.append(test_accuracy)\n",
    "        avg_accuracy = sum(accuracies) / float(len(accuracies))\n",
    "        print(\"The average accuracy after {} episodes of testing is {}\".format(episodes, avg_accuracy))\n",
    "        \n",
    "run_network(mode=\"train\",episodes=1000)\n",
    "run_network(mode=\"test\", episodes=100)"
   ]
  },
  {
   "cell_type": "code",
   "execution_count": null,
   "metadata": {
    "collapsed": true
   },
   "outputs": [],
   "source": []
  }
 ],
 "metadata": {
  "kernelspec": {
   "display_name": "Python 3",
   "language": "python",
   "name": "python3"
  },
  "language_info": {
   "codemirror_mode": {
    "name": "ipython",
    "version": 3
   },
   "file_extension": ".py",
   "mimetype": "text/x-python",
   "name": "python",
   "nbconvert_exporter": "python",
   "pygments_lexer": "ipython3",
   "version": "3.6.0"
  }
 },
 "nbformat": 4,
 "nbformat_minor": 2
}

